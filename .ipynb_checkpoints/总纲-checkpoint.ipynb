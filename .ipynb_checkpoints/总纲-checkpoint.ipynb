{
 "cells": [
  {
   "cell_type": "markdown",
   "metadata": {},
   "source": [
    "### 什么是操作系统\n",
    "#### 什么是操作系统\n",
    "首先,我们先看看程序是如何执行的:\n",
    "1. 处理器从内存中抓取(fetches)指令\n",
    "2. 解码指令(decodes)\n",
    "3. 执行指令(executes)\n",
    "4. 到达下一个指令位置,继续重复1  \n",
    "这就是一个简单的冯诺依曼机  \n",
    "\n",
    "操作系统是软件的身体,使得程序能 easy to use,分配内存,与硬件交互,操作系统就是对硬件的封装,因此操作系统的核心问题是虚拟资源.\n",
    "操作系统通过虚拟化计算来达到(virtualization),把物理硬件转化为虚拟形式,因此我们可以把操作系统称为虚拟机(virtual machine).  \n",
    "为了方便用户调用,os还提供api,一个典型的os有几百个api,也就是一个**standard library** to applications.\n",
    "各种应用通过os调用资源,如cpu,主存等,因此os也被视为资源管理器resource manager.\n",
    "\n",
    "#### os可以虚拟cpu\n",
    "只有一个cpu也可以同时运行程序.\n",
    "\n",
    "#### os可以虚拟内存\n",
    "物理存储器的模型很简单--位的排列(an array of bytes),读写都通过地址.os使每个程序都保有自己的虚拟内存.每个进程有自己的虚拟地址空间(virtual address space),操作系统把内存映射到虚拟空间上,从而物理内存是操作系统的共享资源.\n",
    "\n",
    "#### 并发是另一个主题\n",
    "操作系统必须同时运行多个程序,多线程程序也是这样,如何写正确的并发程序至关重要.atomically (all at once)是非常重要的.\n",
    "\n",
    "#### 持久性\n",
    "DRAM中存储的数据,断电就失去,因此我们需要办法来一直保存数据,硬盘如ssd用来长期存储信息,操作系统中管理硬盘的部分称为文件系统,不同内存,程序必须分享(share)硬盘上的信息.\n",
    "1. open()\n",
    "2. write()\n",
    "3. close()\n",
    "操作系统调用(system call)是文件系统的一部分.文件系统要找到新数据要去的位置,跟踪其变化,与底层存储设备交互,进行i/o请求.\n",
    "\n",
    "#### 设计目的\n",
    "os将底层硬件cpu,主存,硬盘虚拟化,处理并发,持久化存储文件,那么它的设计目的是什么?  \n",
    "最根本的是进行抽象,将复杂的硬件进行封装,易于使用.\n",
    "二是在抽象的同时提高性能(minimize the overheads of the OS.),虚拟化是以性能为代价的.\n",
    "三是在应用间提供隔离(protection),一个崩溃不会影响到另一个.\n",
    "四是高可靠性(reliability),操作系统被设置为一直运行,如果它崩溃,所有运行其上的软件都会崩溃.\n",
    "#### 历史\n",
    "1. Early Operating Systems: Just Libraries 古时候,os只是lib,提供使用底层硬件的api,一次只运行一个程序.\n",
    "\n",
    "2. Beyond Libraries: Protection 系统调用（英语：system call），又称为系统呼叫，指运行在使用者空间的程序向操作系统内核请求需要更高权限运行的服务.然后,有了系统调用,用户空间和内核空间按照接近硬件的层次开始区分.\n",
    "\n",
    "3. The Era of Multiprogramming  cpu切片时间(在多个程序间跳转),同时有多个内存运行,因此内存保护(memory protection)就变的重要了.\n",
    "4. The Modern Era 现代 unix的重要性 shell, pipe,C programming language,open-source software"
   ]
  }
 ],
 "metadata": {
  "kernelspec": {
   "display_name": "Python 3",
   "language": "python",
   "name": "python3"
  },
  "language_info": {
   "codemirror_mode": {
    "name": "ipython",
    "version": 3
   },
   "file_extension": ".py",
   "mimetype": "text/x-python",
   "name": "python",
   "nbconvert_exporter": "python",
   "pygments_lexer": "ipython3",
   "version": "3.5.2"
  },
  "toc": {
   "colors": {
    "hover_highlight": "#DAA520",
    "running_highlight": "#FF0000",
    "selected_highlight": "#FFD700"
   },
   "moveMenuLeft": true,
   "nav_menu": {
    "height": "12px",
    "width": "252px"
   },
   "navigate_menu": true,
   "number_sections": true,
   "sideBar": true,
   "threshold": 4,
   "toc_cell": false,
   "toc_section_display": "block",
   "toc_window_display": false
  }
 },
 "nbformat": 4,
 "nbformat_minor": 2
}
