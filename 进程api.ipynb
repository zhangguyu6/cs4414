{
 "cells": [
  {
   "cell_type": "markdown",
   "metadata": {},
   "source": [
    "### 进程api\n",
    "本节讨论进程api:`fork()`,`exec()`和`wait()`\n",
    "#### fork()\n",
    "fork()用来创造新进程,一个父进程创造一个子进程,父子几乎完全一样,除了pid(process  identifier),子进程不是从main()开始,而是从fork()的地方开始.子进程从fork\n",
    "()处收到的返回是0,父进程收到的是子进程的pid号.\n",
    "#### wait()\n",
    "父进程调用wait(),然后被挂起,直到子进程结束\n",
    "#### exec()\n",
    ": execl(), execle(), execlp(), execv(),and execvp() 执行一个系统调用,a successful call to exec() never returns;系统调用把当前的程序变成了系统调用的程序,它不会返回.\n",
    "\n",
    "shell就是一个用户程序,管道操作符创立一个新文件再读写.\n",
    "### 有限的直接执行( Limited Direct Execution)\n",
    "os 通过时间分片(time sharing)来获得cpu虚拟化  \n",
    "直接执行代码\n",
    "\n",
    "![Screenshot from 2017-04-12 21-13-43.png](https://ooo.0o0.ooo/2017/04/12/58ee282bedb0a.png)\n",
    "\n",
    "简单,但不可控制,os如何判断其终止?可能一直运行下去  \n",
    "方法:\n",
    "1. Restricted Operations(限制操作)  \n",
    "user mode 和 kernel mode  \n",
    "用户和操作系统有不同的权限,用户不能直接执行i/o.把用户的特权操作虚拟化为a system call,特别的指令陷入kernel mode 再返回给用户.\n",
    "为了执行system call,程序执行一种特别的trap 指令,跳入kernel执行操作系统特权指令,完成后os执行return-from-trap指令,将结果返回给用户.\n",
    "从程序跳入kernel是非常危险的,因此kernel在开机时,建立trap table,对各种异常(trap),提前设置各种指令.\n",
    "\n",
    "![Screenshot from 2017-04-12 22-49-14.png](https://ooo.0o0.ooo/2017/04/12/58ee3e7e0029e.png)\n",
    "\n",
    "2. 进程间跳转  \n",
    "最简单的观点:跳转就是停止一个进程,然后开启另一个进程,问题是当一个进程在运行时,os肯定不在运行,那么如何跳转?  \n",
    "方法 :\n",
    "    1. A Cooperative Approach: Wait For System Calls,os信任进程,等待进程终止后调用system call交出主动权.问题:进程无限循环怎么办?重启.\n",
    "    2. A Non-Cooperative Approach: The OS Takes Control使用时间中断( timer interrupt),os每隔一段时间就中断程序,这时它就可以停止当前进程,执行下一个.\n",
    "![Screenshot from 2017-04-12 23-07-54.png](https://ooo.0o0.ooo/2017/04/12/58ee42db3a164.png)\n",
    "3. 保存并载入上下文  \n",
    "无论是重新运行中断的进程还是转到另一个进程都需要进行上下文转换.os执行一些汇编程序去保存通用寄存器,PC(程序计数器),以及指向当前进程的e kernel stack pointer;并载入其他进程的指针和寄存器."
   ]
  },
  {
   "cell_type": "code",
   "execution_count": null,
   "metadata": {
    "collapsed": true
   },
   "outputs": [],
   "source": []
  }
 ],
 "metadata": {
  "kernelspec": {
   "display_name": "Python 3",
   "language": "python",
   "name": "python3"
  },
  "language_info": {
   "codemirror_mode": {
    "name": "ipython",
    "version": 3
   },
   "file_extension": ".py",
   "mimetype": "text/x-python",
   "name": "python",
   "nbconvert_exporter": "python",
   "pygments_lexer": "ipython3",
   "version": "3.5.2"
  },
  "toc": {
   "colors": {
    "hover_highlight": "#DAA520",
    "running_highlight": "#FF0000",
    "selected_highlight": "#FFD700"
   },
   "moveMenuLeft": true,
   "nav_menu": {
    "height": "116px",
    "width": "252px"
   },
   "navigate_menu": true,
   "number_sections": true,
   "sideBar": true,
   "threshold": 4,
   "toc_cell": false,
   "toc_section_display": "block",
   "toc_window_display": false
  }
 },
 "nbformat": 4,
 "nbformat_minor": 2
}
